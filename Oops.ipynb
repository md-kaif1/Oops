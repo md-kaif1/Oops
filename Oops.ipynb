{
  "nbformat": 4,
  "nbformat_minor": 0,
  "metadata": {
    "colab": {
      "provenance": []
    },
    "kernelspec": {
      "name": "python3",
      "display_name": "Python 3"
    },
    "language_info": {
      "name": "python"
    }
  },
  "cells": [
    {
      "cell_type": "markdown",
      "source": [
        "#Python Oop's Question"
      ],
      "metadata": {
        "id": "UD2rj-TLL7hL"
      }
    },
    {
      "cell_type": "markdown",
      "source": [
        "Q1. What is Object-Oriented Programming (OOP)?"
      ],
      "metadata": {
        "id": "tb-YQMWmMAmL"
      }
    },
    {
      "cell_type": "markdown",
      "source": [
        "Ans:Object-Oriented Programming (OOP) is a programming paradigm based on the concept of \"objects\", which are instances of classes. These objects can contain data (attributes) and functions (methods) that operate on the data.\n",
        "\n"
      ],
      "metadata": {
        "id": "VqBcFPKoMMrn"
      }
    },
    {
      "cell_type": "markdown",
      "source": [
        "Q2. What is a class in OOP?"
      ],
      "metadata": {
        "id": "WnIlgZUAMudF"
      }
    },
    {
      "cell_type": "markdown",
      "source": [
        "Ans:A class in Object-Oriented Programming (OOP) is a user-defined data type or blueprint from which objects are created.\n",
        "\n",
        "It defines:\n",
        "\n",
        "Attributes (data members) – variables that hold data.\n",
        "Methods (member functions) – functions that operate on that data."
      ],
      "metadata": {
        "id": "q6xNW3hqMxGn"
      }
    },
    {
      "cell_type": "markdown",
      "source": [
        "Q3. What is an object in OOP?"
      ],
      "metadata": {
        "id": "TwGFiLT4NGa9"
      }
    },
    {
      "cell_type": "markdown",
      "source": [
        "Ans:An object is an instance of a class in Object-Oriented Programming (OOP).\n",
        "It represents a real-world entity and has:\n",
        "\n",
        "State (defined by attributes)\n",
        "Behavior (defined by methods)"
      ],
      "metadata": {
        "id": "Jp8g8bAFNMBh"
      }
    },
    {
      "cell_type": "markdown",
      "source": [
        "Q4. What is the difference between abstraction and encapsulation?"
      ],
      "metadata": {
        "id": "qXIy4GIwNUjK"
      }
    },
    {
      "cell_type": "markdown",
      "source": [
        "Ans:Abstraction and encapsulation are two fundamental concepts in object-oriented programming, but they serve different purposes.\n",
        "\n",
        "Abstraction is the process of hiding the internal details and showing only the essential features of an object. It helps reduce complexity by allowing the programmer to focus on what an object does rather than how it does it. For example, when you use a car, you only need to know how to drive it, not how the engine works internally. In programming, abstraction is achieved using abstract classes, interfaces, or pure virtual functions in C++. It defines a template or contract that must be followed, while hiding the internal implementation.\n",
        "\n"
      ],
      "metadata": {
        "id": "UX2Xl_kvNZnm"
      }
    },
    {
      "cell_type": "markdown",
      "source": [
        "On the other hand, encapsulation is the technique of bundling data (variables) and methods (functions) that operate on the data into a single unit, called a class. It also involves restricting direct access to some of the object’s components, usually by making variables private and accessing them through public getter and setter methods. This helps protect the integrity of the data by preventing unintended interference or misuse. For example, in a Person class, the age variable can be made private, and accessed or modified only through getAge() and setAge() methods.\n",
        "\n",
        "In summary, abstraction focuses on hiding complexity by exposing only what is necessary, while encapsulation focuses on hiding data and controlling access to it for security and maintainability."
      ],
      "metadata": {
        "id": "Ch4KXNglNp6i"
      }
    },
    {
      "cell_type": "markdown",
      "source": [
        "Q5. What are dunder methods in Python?"
      ],
      "metadata": {
        "id": "uhicq2hGNsih"
      }
    },
    {
      "cell_type": "markdown",
      "source": [
        "Ans:Dunder methods in Python (short for \"double underscore\" methods) are special built-in methods that start and end with double underscores (e.g., __init__, __str__, __add__). These are also known as magic methods.\n",
        "\n",
        "They are automatically called by Python in certain situations and are used to define or customize the behavior of objects — such as how they are initialized, displayed, compared, or added."
      ],
      "metadata": {
        "id": "K1uFyrokNxag"
      }
    },
    {
      "cell_type": "markdown",
      "source": [
        "Q6. Explain the concept of inheritance in OOP."
      ],
      "metadata": {
        "id": "eHzWGzTNODTU"
      }
    },
    {
      "cell_type": "markdown",
      "source": [
        "Ans:Inheritance is one of the core concepts of Object-Oriented Programming (OOP). It allows a class (called the child or derived class) to acquire the properties and behaviors (data and methods) of another class (called the parent or base class). This promotes code reusability, modularity, and makes programs easier to maintain and extend.\n",
        "\n",
        "With inheritance, common functionality can be defined in the parent class, and the child class can either use or override this functionality based on its own needs. For example, if there is a base class Animal with a method speak(), a derived class Dog can inherit that method or override it with its own version.\n",
        "\n"
      ],
      "metadata": {
        "id": "Jd-kxxGOOHC1"
      }
    },
    {
      "cell_type": "markdown",
      "source": [
        "Q7. What is polymorphism in OOP?"
      ],
      "metadata": {
        "id": "qgPylYeLOYnl"
      }
    },
    {
      "cell_type": "markdown",
      "source": [
        "Ans:Polymorphism in Object-Oriented Programming (OOP) refers to the ability of different objects to respond to the same method or function in different ways. It literally means \"many forms\".\n",
        "\n",
        "In Python, polymorphism is achieved through method overriding, duck typing, and dynamic typing — Python doesn't require explicit declarations like C++ or Java, which makes polymorphism more flexible."
      ],
      "metadata": {
        "id": "f2LmgXPYOdD-"
      }
    },
    {
      "cell_type": "markdown",
      "source": [
        "Q8. How is encapsulation achieved in Python?"
      ],
      "metadata": {
        "id": "dOMG1zCiPHYC"
      }
    },
    {
      "cell_type": "markdown",
      "source": [
        "Ans:Encapsulation in Python is the process of hiding the internal state of an object and restricting direct access to it. It protects object data from unauthorized access and ensures that it's accessed only through well-defined methods.\n",
        "\n"
      ],
      "metadata": {
        "id": "xVsffQeOPKec"
      }
    },
    {
      "cell_type": "markdown",
      "source": [
        "Q9. What is a constructor in Python?"
      ],
      "metadata": {
        "id": "0QsVgKeyPZEV"
      }
    },
    {
      "cell_type": "markdown",
      "source": [
        "Ans:A constructor in Python is a special method used to initialize the object’s attributes when the object is created. In Python, the constructor method is always named __init__().\n",
        "\n",
        "It is automatically called when a new object of a class is instantiated.\n",
        "\n"
      ],
      "metadata": {
        "id": "TOqvoIvRPc6J"
      }
    },
    {
      "cell_type": "markdown",
      "source": [
        "Q10. What are class and static methods in Python?"
      ],
      "metadata": {
        "id": "mh1Yy_P_Ptxi"
      }
    },
    {
      "cell_type": "markdown",
      "source": [
        "Ans:A class method is a method that takes the class itself as the first argument, instead of an instance. It is defined using the @classmethod decorator and receives the class as the first parameter, typically named cls."
      ],
      "metadata": {
        "id": "5GG0NlMsPumM"
      }
    },
    {
      "cell_type": "markdown",
      "source": [
        "A static method does not take self or cls as the first argument. It’s defined with the @staticmethod decorator and behaves like a regular function, but belongs to the class’s namespace."
      ],
      "metadata": {
        "id": "l0AXQTCpQIe9"
      }
    },
    {
      "cell_type": "markdown",
      "source": [],
      "metadata": {
        "id": "-twGIte8QZ9a"
      }
    },
    {
      "cell_type": "markdown",
      "source": [
        "Q11. What is method overloading in Python?"
      ],
      "metadata": {
        "id": "6lnLwZAuQKaV"
      }
    },
    {
      "cell_type": "markdown",
      "source": [
        "Ans:Method Overloading in Python refers to the ability to define multiple methods with the same name but with different parameters (number or type of arguments). However, Python does not support traditional method overloading like Java or C++ because functions in Python can be called with different numbers of arguments using default arguments, *args, or **kwargs."
      ],
      "metadata": {
        "id": "Kr9AAmTbQoNI"
      }
    },
    {
      "cell_type": "markdown",
      "source": [
        "Q12. What is method overriding in OOP?"
      ],
      "metadata": {
        "id": "cUppkYLWQsKA"
      }
    },
    {
      "cell_type": "markdown",
      "source": [
        "Method Overriding in Object-Oriented Programming (OOP) occurs when a subclass (child class) provides a specific implementation of a method that is already defined in its superclass (parent class).\n",
        "\n",
        "The method in the child class must have the same name, parameters, and return type as in the parent class. This allows the child class to modify or extend the behavior of that method."
      ],
      "metadata": {
        "id": "KKHgsT7oQ0ZJ"
      }
    },
    {
      "cell_type": "markdown",
      "source": [
        "Q13. What is a property decorator in Python?"
      ],
      "metadata": {
        "id": "GaslAHDMRAnp"
      }
    },
    {
      "cell_type": "markdown",
      "source": [
        "Ans:The @property decorator in Python is used to define a method as a \"getter\", allowing you to access it like an attribute rather than a method. It's commonly used for encapsulation, where you want to hide the internal data and control access to it.\n",
        "\n"
      ],
      "metadata": {
        "id": "0nfFQBmfRD8O"
      }
    },
    {
      "cell_type": "markdown",
      "source": [
        "Q14. Why is polymorphism important in OOP?"
      ],
      "metadata": {
        "id": "wvHyMW3PRRGo"
      }
    },
    {
      "cell_type": "markdown",
      "source": [
        "Ans:Polymorphism is one of the four core principles of Object-Oriented Programming (OOP), alongside encapsulation, inheritance, and abstraction. It means “many forms”, allowing different classes to be treated as if they are instances of the same class through a common interface."
      ],
      "metadata": {
        "id": "gQRxpTIURVN7"
      }
    },
    {
      "cell_type": "markdown",
      "source": [
        "Q15. What is an abstract class in Python?"
      ],
      "metadata": {
        "id": "UkZxE7bmRmau"
      }
    },
    {
      "cell_type": "markdown",
      "source": [
        "Ans:An abstract class in Python is a class that cannot be instantiated directly. It is designed to be a base class, meant to be inherited by other classes. Abstract classes are used to define a common interface for a group of related subclasses.\n",
        "\n"
      ],
      "metadata": {
        "id": "UFGES9rMRsru"
      }
    },
    {
      "cell_type": "markdown",
      "source": [
        "Q16. What are the advantages of OOP?"
      ],
      "metadata": {
        "id": "ab8WffyFR8pU"
      }
    },
    {
      "cell_type": "markdown",
      "source": [
        "Ans:Object-Oriented Programming (OOP) is a programming paradigm centered around objects and classes, designed to make code more modular, reusable, and organized. It is widely used in large-scale software development.\n",
        "\n"
      ],
      "metadata": {
        "id": "oLxFvoRXSC78"
      }
    },
    {
      "cell_type": "markdown",
      "source": [],
      "metadata": {
        "id": "ceJppT88SUfT"
      }
    },
    {
      "cell_type": "markdown",
      "source": [
        "Q17. What is the difference between a class variable and an instance variable?"
      ],
      "metadata": {
        "id": "TNOF5EG7SUg4"
      }
    },
    {
      "cell_type": "markdown",
      "source": [
        "Ans:1. Class Variable\n",
        "Shared by all instances of the class.\n",
        "Defined inside the class, but outside any method.\n",
        "Used for class-wide information (common for all objects)."
      ],
      "metadata": {
        "id": "Dl5QaSibSXXf"
      }
    },
    {
      "cell_type": "markdown",
      "source": [
        "2. Instance Variable\n",
        "Unique to each object (instance).\n",
        "Defined inside a method, typically inside __init__() using self.\n",
        "Used for object-specific data.\n"
      ],
      "metadata": {
        "id": "NcqAwTooStZs"
      }
    },
    {
      "cell_type": "code",
      "source": [
        "class Student:\n",
        "    school_name = \"ABC School\"     # Class variable\n",
        "\n",
        "    def __init__(self, name, grade):\n",
        "        self.name = name           # Instance variable\n",
        "        self.grade = grade         # Instance variable"
      ],
      "metadata": {
        "id": "rPrJ9sVmSz-c"
      },
      "execution_count": null,
      "outputs": []
    },
    {
      "cell_type": "markdown",
      "source": [
        "Q18. What is multiple inheritance in Python?"
      ],
      "metadata": {
        "id": "sXEC-NZvS90-"
      }
    },
    {
      "cell_type": "markdown",
      "source": [
        "Ans:Multiple inheritance is a feature in Python where a class can inherit from more than one parent class. This means a child class can access the properties and methods of multiple base classes."
      ],
      "metadata": {
        "id": "FG-Eza1CTAQd"
      }
    },
    {
      "cell_type": "code",
      "source": [],
      "metadata": {
        "id": "Wz6TmpxtTKNY"
      },
      "execution_count": null,
      "outputs": []
    },
    {
      "cell_type": "code",
      "source": [
        "class Father:\n",
        "    def skills(self):\n",
        "        print(\"Father: Gardening, Cooking\")\n",
        "\n",
        "class Mother:\n",
        "    def skills(self):\n",
        "        print(\"Mother: Painting, Sewing\")\n",
        "\n",
        "class Child(Father, Mother):\n",
        "    def skills(self):\n",
        "        print(\"Child: \", end=\"\")\n",
        "        Father.skills(self)\n",
        "        Mother.skills(self)\n",
        "\n",
        "c = Child()\n",
        "c.skills()"
      ],
      "metadata": {
        "id": "hYVE35g0TKOr"
      },
      "execution_count": null,
      "outputs": []
    },
    {
      "cell_type": "markdown",
      "source": [
        "Q19. Explain the purpose of \"__str__' and'__repr__\"' methods in Python."
      ],
      "metadata": {
        "id": "nJ4NSMsVTN1c"
      }
    },
    {
      "cell_type": "markdown",
      "source": [
        "Ans:Purpose of __str__() and __repr__() Methods in Python\n",
        "In Python, __str__() and __repr__() are special (dunder) methods used to define how objects are represented as strings. These methods are very useful for debugging, logging, and printing object information in a readable format.\n",
        "\n"
      ],
      "metadata": {
        "id": "hHDvYFNgTQo3"
      }
    },
    {
      "cell_type": "markdown",
      "source": [],
      "metadata": {
        "id": "g5l7KU4yThGf"
      }
    },
    {
      "cell_type": "markdown",
      "source": [
        "1. __str__() → For Readable/End-User Output\n",
        "Called by the built-in str() function or print() statement.\n",
        "Meant to return a human-readable string representation of the object."
      ],
      "metadata": {
        "id": "P9_AX7xYThHx"
      }
    },
    {
      "cell_type": "code",
      "source": [
        "class Student:\n",
        "    def __init__(self, name, grade):\n",
        "        self.name = name\n",
        "        self.grade = grade\n",
        "\n",
        "    def __str__(self):\n",
        "        return f\"Student: {self.name}, Grade: {self.grade}\"\n",
        "\n",
        "s = Student(\"Kaif\", \"A\")\n",
        "print(s)  # Output: Student: Kaif, Grade: A\n"
      ],
      "metadata": {
        "id": "vReB1Fq7Tkqm"
      },
      "execution_count": null,
      "outputs": []
    },
    {
      "cell_type": "markdown",
      "source": [
        "2. __repr__() → For Developer/Debug Output\n",
        "Called by the built-in repr() function, or by just typing the object in an interactive shell.\n",
        "Should return a string that is a valid Python expression (ideally) that can recreate the object.\n",
        "Used mainly for debugging and logging."
      ],
      "metadata": {
        "id": "O90aP-8DTmXA"
      }
    },
    {
      "cell_type": "code",
      "source": [
        "class Student:\n",
        "    def __init__(self, name, grade):\n",
        "        self.name = name\n",
        "        self.grade = grade\n",
        "\n",
        "    def __repr__(self):\n",
        "        return f\"Student('{self.name}', '{self.grade}')\"\n",
        "\n",
        "s = Student(\"Kaif\", \"A\")\n",
        "print(repr(s))  # Output: Student('Kaif', 'A')\n"
      ],
      "metadata": {
        "colab": {
          "base_uri": "https://localhost:8080/"
        },
        "id": "dBT_uzhAToMF",
        "outputId": "1e002756-5889-419e-aeee-cdc2dd7de344"
      },
      "execution_count": null,
      "outputs": [
        {
          "output_type": "stream",
          "name": "stdout",
          "text": [
            "Student('Kaif', 'A')\n"
          ]
        }
      ]
    },
    {
      "cell_type": "markdown",
      "source": [
        "If Only __repr__() is Defined\n",
        "print(obj) will use __repr__() if __str__() is not defined.\n"
      ],
      "metadata": {
        "id": "CHthj6FVTsJv"
      }
    },
    {
      "cell_type": "markdown",
      "source": [
        "Q20. What is the significance of the 'super ()' function in Python?"
      ],
      "metadata": {
        "id": "I4XoHu_VT1-_"
      }
    },
    {
      "cell_type": "markdown",
      "source": [
        "Ans:The super() function in Python is used to call a method from the parent (super) class. It is especially useful in the context of inheritance, where a subclass wants to extend or customize the behavior of its superclass."
      ],
      "metadata": {
        "id": "08XzLpDbUK_f"
      }
    },
    {
      "cell_type": "markdown",
      "source": [
        "Q21. What is the significance of the __del __ method in Python?"
      ],
      "metadata": {
        "id": "lhJ3F-jrUkQ7"
      }
    },
    {
      "cell_type": "markdown",
      "source": [
        "Ans:The __del__() method in Python is a special method known as the destructor. It is automatically called when an object is about to be destroyed, that is, when there are no more references to it."
      ],
      "metadata": {
        "id": "jfGiw3leUmbw"
      }
    },
    {
      "cell_type": "markdown",
      "source": [],
      "metadata": {
        "id": "C__E4PqYU15R"
      }
    },
    {
      "cell_type": "markdown",
      "source": [
        "Q22. What is the difference between @staticmethod and @classmethod in Python?"
      ],
      "metadata": {
        "id": "LLD66ax5U16f"
      }
    },
    {
      "cell_type": "markdown",
      "source": [
        "Ans:Both @staticmethod and @classmethod are decorators used to define special types of methods inside a class. The key difference lies in what they operate on and how they access class data."
      ],
      "metadata": {
        "id": "A3h8ZfWpU24V"
      }
    },
    {
      "cell_type": "markdown",
      "source": [
        "1. @staticmethod\n",
        "Does not take self or cls as the first argument.\n",
        "Does not access instance (self) or class (cls) variables.\n",
        "Acts like a regular function inside the class — logical grouping of functions.\n"
      ],
      "metadata": {
        "id": "fIy2Gg5MVCus"
      }
    },
    {
      "cell_type": "markdown",
      "source": [],
      "metadata": {
        "id": "kHFEGX5IVGqf"
      }
    },
    {
      "cell_type": "markdown",
      "source": [
        "2. @classmethod\n",
        "Takes cls (class) as the first argument.\n",
        "Can access and modify class variables.\n",
        "Works with the class itself, not a specific instance."
      ],
      "metadata": {
        "id": "cYPqqWNyVGsD"
      }
    },
    {
      "cell_type": "markdown",
      "source": [
        "Q23. How does polymorphism work in Python with inheritance?"
      ],
      "metadata": {
        "id": "K-haUzeXVIuz"
      }
    },
    {
      "cell_type": "markdown",
      "source": [
        "Ans:Polymorphism means “many forms” — in the context of Python and OOP, it allows methods in different classes to have the same name but behave differently based on the object that calls them.\n",
        "\n",
        "When used with inheritance, polymorphism enables a subclass to override methods of its parent class, and you can treat different subclass objects as instances of the parent class while calling the appropriate method at runtime."
      ],
      "metadata": {
        "id": "mXset9V0VMX1"
      }
    },
    {
      "cell_type": "markdown",
      "source": [
        "Q24. What is method chaining in Python OOP?"
      ],
      "metadata": {
        "id": "14kePfghVZzy"
      }
    },
    {
      "cell_type": "markdown",
      "source": [
        "Ans:Method chaining in Python is a technique where you call multiple methods on the same object in a single line by chaining them together using dots (.). This works by ensuring that each method returns self (i.e., the object itself), allowing further method calls."
      ],
      "metadata": {
        "id": "hDWLG0tPVcFG"
      }
    },
    {
      "cell_type": "markdown",
      "source": [
        "Q25. What is the purpose of the __call __ method in Python?"
      ],
      "metadata": {
        "id": "4O3eZCnaVrUo"
      }
    },
    {
      "cell_type": "markdown",
      "source": [
        "Ans:The __call__() method in Python allows an instance of a class to be called like a function. When you define __call__ in a class, you can use the object itself with parentheses () to execute code, just like calling a function.\n",
        "\n"
      ],
      "metadata": {
        "id": "ji1RUN1oVs2d"
      }
    },
    {
      "cell_type": "markdown",
      "source": [],
      "metadata": {
        "id": "_PKUSrN_V8zX"
      }
    },
    {
      "cell_type": "markdown",
      "source": [
        " Purpose:\n",
        "To make an object callable like a regular function.\n",
        "Useful in function wrappers, decorators, machine learning models, and more.\n",
        "Adds flexibility and function-like behavior to objects."
      ],
      "metadata": {
        "id": "b9QKL7zhV81Z"
      }
    },
    {
      "cell_type": "markdown",
      "source": [
        "#Practical Question"
      ],
      "metadata": {
        "id": "Tp60VVnBV9gq"
      }
    },
    {
      "cell_type": "markdown",
      "source": [
        "Q1. Create a parent class Animal with a method speak() that prints a generic message. Create a child class Dog that overrides the speak() method to print \"Bark!\"."
      ],
      "metadata": {
        "id": "koD5AQAGWErj"
      }
    },
    {
      "cell_type": "code",
      "source": [
        "#Ans\n",
        "class Animal:\n",
        "  def speak(self):\n",
        "    print(\"Animal sound\")\n",
        "class Dog(Animal):\n",
        "  def speak(self):\n",
        "    print(\"Dog is barking\")\n",
        "a=Animal()\n",
        "a.speak()\n",
        "d=Dog()\n",
        "d.speak()\n"
      ],
      "metadata": {
        "id": "-LkZ0fIdcH-f",
        "colab": {
          "base_uri": "https://localhost:8080/"
        },
        "outputId": "111dd820-6bc3-4c9c-9248-9fa0122d834b"
      },
      "execution_count": 10,
      "outputs": [
        {
          "output_type": "stream",
          "name": "stdout",
          "text": [
            "Animal sound\n",
            "Dog is barking\n"
          ]
        }
      ]
    },
    {
      "cell_type": "markdown",
      "source": [
        "Q2. Write a program to create an abstract class Shape with a method area (). Derive classes Circle and Rectangle from it and implement the ared() method in both."
      ],
      "metadata": {
        "id": "TV93BOkvFXrQ"
      }
    },
    {
      "cell_type": "code",
      "source": [
        "#Ans\n",
        "from abc import ABC, abstractmethod\n",
        "import math\n",
        "\n",
        "class Shape(ABC):\n",
        "    @abstractmethod\n",
        "    def area(self):\n",
        "        pass\n",
        "\n",
        "class Circle(Shape):\n",
        "    def __init__(self, radius):\n",
        "        self.radius = radius\n",
        "\n",
        "    def area(self):\n",
        "        return math.pi * self.radius ** 2\n",
        "\n",
        "class Rectangle(Shape):\n",
        "    def __init__(self, length, width):\n",
        "        self.length = length\n",
        "        self.width = width\n",
        "\n",
        "    def area(self):\n",
        "        return self.length * self.width\n",
        "\n",
        "\n",
        "c = Circle(5)\n",
        "print(\"Area of Circle:\", c.area())\n",
        "\n",
        "r = Rectangle(4, 6)\n",
        "print(\"Area of Rectangle:\", r.area())"
      ],
      "metadata": {
        "colab": {
          "base_uri": "https://localhost:8080/"
        },
        "id": "AYs8q3qSFcKt",
        "outputId": "3edf5e70-d499-467b-c4c3-05e712f750dc"
      },
      "execution_count": 9,
      "outputs": [
        {
          "output_type": "stream",
          "name": "stdout",
          "text": [
            "Area of Circle: 78.53981633974483\n",
            "Area of Rectangle: 24\n"
          ]
        }
      ]
    },
    {
      "cell_type": "markdown",
      "source": [
        "Q3. Implement a multi-level inheritance scenario where a class Vehicle has an attribute type. Derive a class Car and further derive a class ElectricCar that adds a battery attribute."
      ],
      "metadata": {
        "id": "Mkv-AiPDGUlO"
      }
    },
    {
      "cell_type": "code",
      "source": [
        "#Ans\n",
        "class Vehicle:\n",
        "    def __init__(self, vehicle_type):\n",
        "        self.type = vehicle_type\n",
        "\n",
        "    def display_type(self):\n",
        "        print(\"Vehicle Type:\", self.type)\n",
        "\n",
        "class Car(Vehicle):\n",
        "    def __init__(self, vehicle_type, brand):\n",
        "        super().__init__(vehicle_type)\n",
        "        self.brand = brand\n",
        "\n",
        "    def display_brand(self):\n",
        "        print(\"Car Brand:\", self.brand)\n",
        "\n",
        "class ElectricCar(Car):\n",
        "    def __init__(self, vehicle_type, brand, battery_capacity):\n",
        "        super().__init__(vehicle_type, brand)\n",
        "        self.battery = battery_capacity\n",
        "\n",
        "    def display_info(self):\n",
        "        self.display_type()\n",
        "        self.display_brand()\n",
        "        print(\"Battery Capacity:\", self.battery, \"kWh\")\n",
        "\n",
        "e_car = ElectricCar(\"Four-Wheeler\", \"Tesla\", 75)\n",
        "e_car.display_info()\n"
      ],
      "metadata": {
        "colab": {
          "base_uri": "https://localhost:8080/"
        },
        "id": "ZXIxDSYOGcP5",
        "outputId": "6708b2e9-6211-4664-f3cd-7410d9148011"
      },
      "execution_count": 11,
      "outputs": [
        {
          "output_type": "stream",
          "name": "stdout",
          "text": [
            "Vehicle Type: Four-Wheeler\n",
            "Car Brand: Tesla\n",
            "Battery Capacity: 75 kWh\n"
          ]
        }
      ]
    },
    {
      "cell_type": "markdown",
      "source": [
        "Q4. Demonstrate polymorphism by creating a base class Bird with a method fly(). Create two derived classes\n",
        "Sparrow and Penguin that override the fly() method."
      ],
      "metadata": {
        "id": "s8sheRw0MiFw"
      }
    },
    {
      "cell_type": "code",
      "source": [
        "#Ans:\n",
        "class Bird:\n",
        "    def fly(self):\n",
        "        print(\"Birds can fly\")\n",
        "\n",
        "class Sparrow(Bird):\n",
        "    def fly(self):\n",
        "        print(\"Sparrow flies high in the sky\")\n",
        "\n",
        "class Penguin(Bird):\n",
        "    def fly(self):\n",
        "        print(\"Penguins cannot fly\")\n",
        "\n",
        "def show_flight(bird):\n",
        "    bird.fly()\n",
        "\n",
        "b1 = Sparrow()\n",
        "b2 = Penguin()\n",
        "\n",
        "show_flight(b1)\n",
        "show_flight(b2)"
      ],
      "metadata": {
        "colab": {
          "base_uri": "https://localhost:8080/"
        },
        "id": "hmTGqAfWMmJZ",
        "outputId": "f0a99a3f-2294-4d4d-f9d2-b1ff94effd39"
      },
      "execution_count": 12,
      "outputs": [
        {
          "output_type": "stream",
          "name": "stdout",
          "text": [
            "Sparrow flies high in the sky\n",
            "Penguins cannot fly\n"
          ]
        }
      ]
    },
    {
      "cell_type": "markdown",
      "source": [
        "Q5. Write a program to demonstrate encapsulation by creating a class BankAccount with private attributes balance and methods to deposit, withdraw, and check balance."
      ],
      "metadata": {
        "id": "waoYgArfN9SC"
      }
    },
    {
      "cell_type": "code",
      "source": [
        "#Ans\n",
        "class BankAccount:\n",
        "    def __init__(self, initial_balance=0):\n",
        "        self.__balance = initial_balance\n",
        "\n",
        "    def deposit(self, amount):\n",
        "        if amount > 0:\n",
        "            self.__balance += amount\n",
        "            print(f\"Deposited: {amount}\")\n",
        "        else:\n",
        "            print(\"Invalid deposit amount\")\n",
        "\n",
        "    def withdraw(self, amount):\n",
        "        if 0 < amount <= self.__balance:\n",
        "            self.__balance -= amount\n",
        "            print(f\"Withdrew: {amount}\")\n",
        "        else:\n",
        "            print(\"Insufficient balance or invalid amount\")\n",
        "\n",
        "    def check_balance(self):\n",
        "        print(f\"Current Balance: {self.__balance}\")\n",
        "\n",
        "account = BankAccount(500)\n",
        "account.deposit(200)\n",
        "account.withdraw(100)\n",
        "account.check_balance()"
      ],
      "metadata": {
        "colab": {
          "base_uri": "https://localhost:8080/"
        },
        "id": "6hRIAysFOBAl",
        "outputId": "6d356586-e9da-4a66-cea6-08d31780dd04"
      },
      "execution_count": 13,
      "outputs": [
        {
          "output_type": "stream",
          "name": "stdout",
          "text": [
            "Deposited: 200\n",
            "Withdrew: 100\n",
            "Current Balance: 600\n"
          ]
        }
      ]
    },
    {
      "cell_type": "markdown",
      "source": [
        "Q6. Demonstrate runtime polymorphism using a method play() in a base class Instrument. Derive classes Guitar and Piano that implement their own version of play()."
      ],
      "metadata": {
        "id": "PbPipLbJPtE1"
      }
    },
    {
      "cell_type": "code",
      "source": [
        "#Ans\n",
        "class Instrument:\n",
        "    def play(self):\n",
        "        print(\"Instrument is playing\")\n",
        "\n",
        "class Guitar(Instrument):\n",
        "    def play(self):\n",
        "        print(\"Playing the guitar \")\n",
        "\n",
        "class Piano(Instrument):\n",
        "    def play(self):\n",
        "        print(\"Playing the piano \")\n",
        "\n",
        "def start_playing(instrument):\n",
        "    instrument.play()\n",
        "\n",
        "\n",
        "g = Guitar()\n",
        "p = Piano()\n",
        "\n",
        "\n",
        "start_playing(g)\n",
        "start_playing(p)"
      ],
      "metadata": {
        "colab": {
          "base_uri": "https://localhost:8080/"
        },
        "id": "OhSDhl2BP0Dc",
        "outputId": "71cff8b9-d46a-47fc-e94c-50e747a24295"
      },
      "execution_count": 14,
      "outputs": [
        {
          "output_type": "stream",
          "name": "stdout",
          "text": [
            "Playing the guitar \n",
            "Playing the piano \n"
          ]
        }
      ]
    },
    {
      "cell_type": "markdown",
      "source": [],
      "metadata": {
        "id": "ZeaIMw0sRBLp"
      }
    },
    {
      "cell_type": "markdown",
      "source": [
        "7. Create a class MathOperations with a class method add _numbers) to add two numbers and a static method subtract_numbers() to subtract two numbers."
      ],
      "metadata": {
        "id": "3kJFaQLpRBM-"
      }
    },
    {
      "cell_type": "code",
      "source": [
        "#Ans\n",
        "class MathOperations:\n",
        "    @classmethod\n",
        "    def add_numbers(cls, a, b):\n",
        "        return a + b\n",
        "\n",
        "    @staticmethod\n",
        "    def subtract_numbers(a, b):\n",
        "        return a - b\n",
        "\n",
        "sum_result = MathOperations.add_numbers(10, 5)\n",
        "print(\"Sum:\", sum_result)\n",
        "\n",
        "diff_result = MathOperations.subtract_numbers(10, 5)\n",
        "print(\"Difference:\", diff_result)"
      ],
      "metadata": {
        "colab": {
          "base_uri": "https://localhost:8080/"
        },
        "id": "YPndzMplRDLO",
        "outputId": "7649b946-dde3-480a-98bd-e171b884b649"
      },
      "execution_count": 15,
      "outputs": [
        {
          "output_type": "stream",
          "name": "stdout",
          "text": [
            "Sum: 15\n",
            "Difference: 5\n"
          ]
        }
      ]
    },
    {
      "cell_type": "markdown",
      "source": [
        "Q8. Implement a class Person with a class method to count the total number of persons created."
      ],
      "metadata": {
        "id": "lVChOkskR3MG"
      }
    },
    {
      "cell_type": "code",
      "source": [
        "#Ans\n",
        "class Person:\n",
        "\n",
        "    count = 0\n",
        "\n",
        "    def __init__(self, name):\n",
        "        self.name = name\n",
        "        Person.count += 1\n",
        "\n",
        "    @classmethod\n",
        "    def get_person_count(cls):\n",
        "        return cls.count\n",
        "\n",
        "p1 = Person(\"Alice\")\n",
        "p2 = Person(\"Bob\")\n",
        "p3 = Person(\"Charlie\")\n",
        "\n",
        "print(\"Total number of persons created:\", Person.get_person_count())"
      ],
      "metadata": {
        "colab": {
          "base_uri": "https://localhost:8080/"
        },
        "id": "0fqKepmFR92I",
        "outputId": "4869ef76-76f5-47a8-9d73-a4cd901b294c"
      },
      "execution_count": 18,
      "outputs": [
        {
          "output_type": "stream",
          "name": "stdout",
          "text": [
            "Total number of persons created: 3\n"
          ]
        }
      ]
    },
    {
      "cell_type": "markdown",
      "source": [
        "Q9. Write a class Fraction with attributes numerator and denominator. Override the str method to display the fraction as \"numerator/denominator\"."
      ],
      "metadata": {
        "id": "NWJrWNDuV2w0"
      }
    },
    {
      "cell_type": "code",
      "source": [
        "class Fraction:\n",
        "    def __init__(self, numerator, denominator):\n",
        "        self.numerator = numerator\n",
        "        self.denominator = denominator\n",
        "\n",
        "    def __str__(self):\n",
        "        return f\"{self.numerator}/{self.denominator}\"\n",
        "\n",
        "f1 = Fraction(3, 4)\n",
        "f2 = Fraction(7, 2)\n",
        "\n",
        "print(\"First fraction:\", f1)\n",
        "print(\"Second fraction:\", f2)\n"
      ],
      "metadata": {
        "colab": {
          "base_uri": "https://localhost:8080/"
        },
        "id": "gfzcBjYQWHlV",
        "outputId": "7b1af5e3-1a08-4cf8-e8d0-9fcaf2bfa233"
      },
      "execution_count": 19,
      "outputs": [
        {
          "output_type": "stream",
          "name": "stdout",
          "text": [
            "First fraction: 3/4\n",
            "Second fraction: 7/2\n"
          ]
        }
      ]
    },
    {
      "cell_type": "markdown",
      "source": [
        "Q10. Demonstrate operator overloading by creating a class Vector and overriding the add method to add two vectors."
      ],
      "metadata": {
        "id": "Apm-5KrEeKTE"
      }
    },
    {
      "cell_type": "code",
      "source": [
        "class Vector:\n",
        "    def __init__(self, x, y):\n",
        "        self.x = x\n",
        "        self.y = y\n",
        "\n",
        "    def __add__(self, other):\n",
        "\n",
        "        new_x = self.x + other.x\n",
        "        new_y = self.y + other.y\n",
        "        return Vector(new_x, new_y)\n",
        "\n",
        "    def __str__(self):\n",
        "        return f\"Vector({self.x}, {self.y})\"\n",
        "\n",
        "v1 = Vector(1, 2)\n",
        "v2 = Vector(3, 4)\n",
        "\n",
        "v3 = v1 + v2\n",
        "print(\"v1 + v2 =\", v3)\n"
      ],
      "metadata": {
        "colab": {
          "base_uri": "https://localhost:8080/"
        },
        "id": "wQIdGhiIeS5j",
        "outputId": "548e72e1-2f7c-4366-c06e-9bbd9502abcf"
      },
      "execution_count": 20,
      "outputs": [
        {
          "output_type": "stream",
          "name": "stdout",
          "text": [
            "v1 + v2 = Vector(4, 6)\n"
          ]
        }
      ]
    },
    {
      "cell_type": "markdown",
      "source": [
        "Q11. Create a class Person with attributes name and age. Add a method greet() that prints \"Hello, my name is {name} and I am {age}' years old.\""
      ],
      "metadata": {
        "id": "N_JLkhyEiWZl"
      }
    },
    {
      "cell_type": "code",
      "source": [
        "class Person:\n",
        "    def __init__(self, name, age):\n",
        "        self.name = name\n",
        "        self.age = age\n",
        "\n",
        "    def greet(self):\n",
        "        print(f\"Hello, my name is {self.name} and I am {self.age} years old.\")\n",
        "\n",
        "p1 = Person(\"Kaif\", 20)\n",
        "p1.greet()"
      ],
      "metadata": {
        "id": "HXt77BLpjwKA"
      },
      "execution_count": null,
      "outputs": []
    },
    {
      "cell_type": "markdown",
      "source": [
        "Q12. Implement a class Student with attributes name and grades. Create a method average _grade) to compute the average of the grades."
      ],
      "metadata": {
        "id": "TFdKq4ntkl8e"
      }
    },
    {
      "cell_type": "code",
      "source": [
        "class Student:\n",
        "    def __init__(self, name, grades):\n",
        "        self.name = name\n",
        "        self.grades = grades  # should be a list of numbers\n",
        "\n",
        "    def average_grade(self):\n",
        "        if len(self.grades) == 0:\n",
        "            return 0\n",
        "        return sum(self.grades) / len(self.grades)\n",
        "\n",
        "# Example usage\n",
        "s1 = Student(\"Kaif\", [85, 90, 78, 92])\n",
        "print(f\"{s1.name}'s average grade is:\", s1.average_grade())"
      ],
      "metadata": {
        "colab": {
          "base_uri": "https://localhost:8080/"
        },
        "id": "m3Km7pD1uzSq",
        "outputId": "1abe460a-1b49-4573-8271-0dcc330db4d6"
      },
      "execution_count": 21,
      "outputs": [
        {
          "output_type": "stream",
          "name": "stdout",
          "text": [
            "Kaif's average grade is: 86.25\n"
          ]
        }
      ]
    },
    {
      "cell_type": "markdown",
      "source": [
        "Q13. Create a class Rectangle with methods set_dimensions) to set the dimensions and area) to calculate the area."
      ],
      "metadata": {
        "id": "4th2L5z-vc-r"
      }
    },
    {
      "cell_type": "code",
      "source": [
        "class Rectangle:\n",
        "    def __init__(self):\n",
        "        self.length = 0\n",
        "        self.breadth = 0\n",
        "\n",
        "    def set_dimensions(self, length, breadth):\n",
        "        self.length = length\n",
        "        self.breadth = breadth\n",
        "\n",
        "    def area(self):\n",
        "        return self.length * self.breadth\n",
        "\n",
        "# Example usage\n",
        "rect = Rectangle()\n",
        "rect.set_dimensions(10, 5)\n",
        "print(\"Area of rectangle:\", rect.area())\n"
      ],
      "metadata": {
        "colab": {
          "base_uri": "https://localhost:8080/"
        },
        "id": "WIibeW0gvf_U",
        "outputId": "1e257661-11a9-4378-abaa-2a8b7f291d31"
      },
      "execution_count": 22,
      "outputs": [
        {
          "output_type": "stream",
          "name": "stdout",
          "text": [
            "Area of rectangle: 50\n"
          ]
        }
      ]
    },
    {
      "cell_type": "markdown",
      "source": [
        "Q14. Create a class Employee with a method calculate_ salary that computes the salary based on hours worked and hourly rate. Create a derived class Manager that adds a bonus to the salary."
      ],
      "metadata": {
        "id": "80cflZFZwi0q"
      }
    },
    {
      "cell_type": "code",
      "source": [
        "class Employee:\n",
        "    def __init__(self, name):\n",
        "        self.name = name\n",
        "        self.hours_worked = 0\n",
        "        self.hourly_rate = 0\n",
        "\n",
        "    def set_details(self, hours_worked, hourly_rate):\n",
        "        self.hours_worked = hours_worked\n",
        "        self.hourly_rate = hourly_rate\n",
        "\n",
        "    def calculate_salary(self):\n",
        "        return self.hours_worked * self.hourly_rate\n",
        "\n",
        "class Manager(Employee):\n",
        "    def __init__(self, name):\n",
        "        super().__init__(name)\n",
        "        self.bonus = 0\n",
        "\n",
        "    def set_bonus(self, bonus):\n",
        "        self.bonus = bonus\n",
        "\n",
        "    def calculate_salary(self):\n",
        "        base_salary = super().calculate_salary()\n",
        "        return base_salary + self.bonus\n",
        "\n",
        "emp = Employee(\"John\")\n",
        "emp.set_details(40, 200)\n",
        "print(f\"{emp.name}'s Salary: ₹{emp.calculate_salary()}\")\n",
        "\n",
        "mgr = Manager(\"Alice\")\n",
        "mgr.set_details(40, 200)\n",
        "mgr.set_bonus(5000)\n",
        "print(f\"{mgr.name}'s Salary with Bonus: ₹{mgr.calculate_salary()}\")"
      ],
      "metadata": {
        "colab": {
          "base_uri": "https://localhost:8080/"
        },
        "id": "caufXv5RxuWn",
        "outputId": "b7b0a60a-1e20-4135-fb6c-093c93dea171"
      },
      "execution_count": 23,
      "outputs": [
        {
          "output_type": "stream",
          "name": "stdout",
          "text": [
            "John's Salary: ₹8000\n",
            "Alice's Salary with Bonus: ₹13000\n"
          ]
        }
      ]
    },
    {
      "cell_type": "markdown",
      "source": [
        "Q15. Create a class Product with attributes name, price, and quantity. Implement a method total _price() that calculates the total price of the product."
      ],
      "metadata": {
        "id": "7-CKp2MMy1BC"
      }
    },
    {
      "cell_type": "code",
      "source": [
        "class Product:\n",
        "    def __init__(self, name, price, quantity):\n",
        "        self.name = name\n",
        "        self.price = price      # Price per unit\n",
        "        self.quantity = quantity  # Number of units\n",
        "\n",
        "    def total_price(self):\n",
        "        return self.price * self.quantity\n",
        "\n",
        "# Example usage\n",
        "item = Product(\"Laptop\", 55000, 2)\n",
        "print(f\"Product: {item.name}\")\n",
        "print(f\"Unit Price: ₹{item.price}\")\n",
        "print(f\"Quantity: {item.quantity}\")\n",
        "print(f\"Total Price: ₹{item.total_price()}\")\n"
      ],
      "metadata": {
        "colab": {
          "base_uri": "https://localhost:8080/"
        },
        "id": "zobpitMNy4q2",
        "outputId": "70251e88-9269-4ebb-c57f-5bc4b07c7180"
      },
      "execution_count": 24,
      "outputs": [
        {
          "output_type": "stream",
          "name": "stdout",
          "text": [
            "Product: Laptop\n",
            "Unit Price: ₹55000\n",
            "Quantity: 2\n",
            "Total Price: ₹110000\n"
          ]
        }
      ]
    },
    {
      "cell_type": "markdown",
      "source": [
        "Q16. Create a class Animal with an abstract method sound). Create two derived classes Cow and Sheep that implement the sound) method."
      ],
      "metadata": {
        "id": "89RxnBOSzKJY"
      }
    },
    {
      "cell_type": "code",
      "source": [
        "from abc import ABC, abstractmethod\n",
        "\n",
        "class Animal(ABC):\n",
        "    @abstractmethod\n",
        "    def sound(self):\n",
        "        pass\n",
        "\n",
        "class Cow(Animal):\n",
        "    def sound(self):\n",
        "        return \"Moo\"\n",
        "\n",
        "class Sheep(Animal):\n",
        "    def sound(self):\n",
        "        return \"Baa\"\n",
        "\n",
        "cow = Cow()\n",
        "sheep = Sheep()\n",
        "\n",
        "print(\"Cow says:\", cow.sound())\n",
        "print(\"Sheep says:\", sheep.sound())\n"
      ],
      "metadata": {
        "colab": {
          "base_uri": "https://localhost:8080/"
        },
        "id": "e9RmfiFizMQT",
        "outputId": "b7d168ac-6e36-4e09-b82c-7f7d1d674087"
      },
      "execution_count": 25,
      "outputs": [
        {
          "output_type": "stream",
          "name": "stdout",
          "text": [
            "Cow says: Moo\n",
            "Sheep says: Baa\n"
          ]
        }
      ]
    },
    {
      "cell_type": "markdown",
      "source": [
        "Q17. Create a class Book with attributes title, author, and year_published. Add a method get_book_infol) that returns a formatted string with the book's details."
      ],
      "metadata": {
        "id": "AFMgFjBEzn3e"
      }
    },
    {
      "cell_type": "code",
      "source": [
        "class Book:\n",
        "    def __init__(self, title, author, year_published):\n",
        "        self.title = title\n",
        "        self.author = author\n",
        "        self.year_published = year_published\n",
        "\n",
        "    def get_book_info(self):\n",
        "        return f\"'{self.title}' by {self.author}, published in {self.year_published}.\"\n",
        "\n",
        "book1 = Book(\"The Alchemist\", \"Paulo Coelho\", 1988)\n",
        "print(book1.get_book_info())\n"
      ],
      "metadata": {
        "colab": {
          "base_uri": "https://localhost:8080/"
        },
        "id": "RjUWOEATz2jk",
        "outputId": "d6a6ac6d-60e5-48ca-e01a-a4e46f32e407"
      },
      "execution_count": 26,
      "outputs": [
        {
          "output_type": "stream",
          "name": "stdout",
          "text": [
            "'The Alchemist' by Paulo Coelho, published in 1988.\n"
          ]
        }
      ]
    },
    {
      "cell_type": "markdown",
      "source": [],
      "metadata": {
        "id": "F2sEHTJez69v"
      }
    },
    {
      "cell_type": "markdown",
      "source": [
        "Q18. Create a class House with attributes address and price. Create a derived class Mansion that adds an attribute number_of_rooms."
      ],
      "metadata": {
        "id": "VyEWQAhIz6_Y"
      }
    },
    {
      "cell_type": "code",
      "source": [
        "class House:\n",
        "    def __init__(self, address, price):\n",
        "        self.address = address\n",
        "        self.price = price\n",
        "\n",
        "    def display_info(self):\n",
        "        print(f\"Address: {self.address}\")\n",
        "        print(f\"Price: ₹{self.price}\")\n",
        "\n",
        "class Mansion(House):\n",
        "    def __init__(self, address, price, number_of_rooms):\n",
        "        super().__init__(address, price)\n",
        "        self.number_of_rooms = number_of_rooms\n",
        "\n",
        "    def display_info(self):\n",
        "        super().display_info()\n",
        "        print(f\"Number of Rooms: {self.number_of_rooms}\")\n",
        "\n",
        "house = House(\"123 Park Street, Kolkata\", 8000000)\n",
        "mansion = Mansion(\"1 Sea View Road, Goa\", 35000000, 12)\n",
        "\n",
        "print(\"House Details:\")\n",
        "house.display_info()\n",
        "\n",
        "print(\"\\nMansion Details:\")\n",
        "mansion.display_info()\n"
      ],
      "metadata": {
        "colab": {
          "base_uri": "https://localhost:8080/"
        },
        "id": "3g5sbx7Qz9uK",
        "outputId": "dc474206-e2fd-43d7-e59a-42378052f3e3"
      },
      "execution_count": 27,
      "outputs": [
        {
          "output_type": "stream",
          "name": "stdout",
          "text": [
            "House Details:\n",
            "Address: 123 Park Street, Kolkata\n",
            "Price: ₹8000000\n",
            "\n",
            "Mansion Details:\n",
            "Address: 1 Sea View Road, Goa\n",
            "Price: ₹35000000\n",
            "Number of Rooms: 12\n"
          ]
        }
      ]
    }
  ]
}